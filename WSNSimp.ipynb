{
  "cells": [
    {
      "cell_type": "code",
      "execution_count": null,
      "metadata": {
        "id": "OPuJmw0JHGwF"
      },
      "outputs": [],
      "source": [
        "import os\n",
        "import gym\n",
        "from gym import spaces\n",
        "from torch import nn\n",
        "import torch\n",
        "from collections import deque, defaultdict\n",
        "import itertools\n",
        "import numpy as np\n",
        "import random\n",
        "from scipy.stats import poisson\n",
        "from tqdm import tqdm\n",
        "from torch.utils.tensorboard import SummaryWriter\n",
        "import msgpack\n",
        "import matplotlib.pyplot as plt\n",
        "from msgpack_numpy import patch as msgpack_numpy_patch\n",
        "msgpack_numpy_patch()\n",
        "import pickle\n",
        "import dill\n",
        "SAMPLING_FREQ = [1,2,3]\n",
        "TOTAL_ENERGY = 100\n",
        "\n",
        "\n",
        "\n",
        "\n",
        "def load_q_table(filename):\n",
        "    with open(filename, 'rb') as f:\n",
        "        q_values = dill.load(f)\n",
        "    return q_values\n",
        "def rmse(e1,e2):\n",
        "    return np.sqrt(np.mean((e1 - e2) ** 2))\n",
        "class WSNEnvironment(gym.Env):\n",
        "\n",
        "    metadata = {\"render_modes\": [\"console\"]}\n",
        "    def __init__(self, num_sensors=13, sensor_coverage=0.4, sampling_freq = 2, energy = TOTAL_ENERGY, max_steps=50, threshold_prob=0.3):\n",
        "        super(WSNEnvironment, self).__init__()\n",
        "\n",
        "        # Environment parameters\n",
        "        self.num_sensors = num_sensors\n",
        "        self.sensor_coverage = sensor_coverage\n",
        "        self.max_steps = max_steps\n",
        "        self.threshold_prob = threshold_prob\n",
        "        self.alpha=0.6\n",
        "        self.beta=0.3\n",
        "\n",
        "\n",
        "        ## this is where we should load the temprature data\n",
        "        self.temprature = np.random.randint(10, 12, size=(num_sensors-1, 100))\n",
        "        self.remaining_energy = [energy] * self.num_sensors\n",
        "\n",
        "        # Initialize the environment\n",
        "        self.sensor_information, self.num_points = self._generate_sensor_positions(TOTAL_ENERGY,self.temprature[:,0])\n",
        "\n",
        "        # Define observation space\n",
        "        self.observation_space = spaces.Box(low=0, high=1000, shape=(self.num_points, 3), dtype=np.float32)\n",
        "\n",
        "        self.sampling_freq = sampling_freq\n",
        "\n",
        "        ## Define the action_space\n",
        "        self.action_space = spaces.MultiDiscrete([self.sampling_freq] * self.num_points)\n",
        "\n",
        "\n",
        "\n",
        "        # Internal state variables\n",
        "        self.step_count = 0\n",
        "\n",
        "        # information dictionary\n",
        "        self.info = {}\n",
        "\n",
        "        # the generated event\n",
        "        self.event = None\n",
        "\n",
        "        # Number of generated events\n",
        "        self.generated_events = 0\n",
        "        self.similarity=0\n",
        "        self.similarity_penalty=0\n",
        "\n",
        "\n",
        "\n",
        "\n",
        "\n",
        "\n",
        "    def reset(self, seed=0):\n",
        "        # Initialize the environment at the start of each episode\n",
        "        self.step_count = 0\n",
        "        self.generated_events = 0\n",
        "        self.info = {'captured': 0, 'non-captured': 0}\n",
        "\n",
        "        for i in range(self.num_points):\n",
        "            self.info['sensor '+str(i)] = set()\n",
        "            # initialize the energy and temprature\n",
        "            self.sensor_information[i,1] = self.remaining_energy[i]\n",
        "            self.sensor_information[i,0] = self.temprature[i,0]\n",
        "        return self.sensor_information, self.info\n",
        "\n",
        "    def step(self, action):\n",
        "        # Execute one step in the environment\n",
        "        #print(self.step_count)\n",
        "        truncated = bool(self.step_count > self.max_steps)\n",
        "        terminated = False\n",
        "\n",
        "        reward = 0\n",
        "\n",
        "        # Check termination condition\n",
        "        if truncated:\n",
        "            terminated = True\n",
        "            return self.sensor_information, reward, terminated, truncated, self.info\n",
        "\n",
        "        ## energy consumption\n",
        "        energy_consumption = [0] * len(action)\n",
        "        for i in range(len(action)):\n",
        "           if action[i] == 0:\n",
        "              energy_consumption[i] = action[i] * 0.3  ## energy consumption for sensing\n",
        "           else:\n",
        "              energy_consumption[i] = action[i] * 4 ## energy consumption for sensing and data communication\n",
        "\n",
        "        ### update the state information\n",
        "\n",
        "\n",
        "        for i in range(len(self.sensor_information)):\n",
        "            for j in range(i + 1, len(self.sensor_information)):\n",
        "                self.similarity = rmse(self.sensor_information[i,0], self.sensor_information[j,0])\n",
        "\n",
        "\n",
        "            # Penalize pairs with high similarity and high frequency rates\n",
        "                self.similarity_penalty += self.similarity * (action[i] + action[j])\n",
        "\n",
        "\n",
        "        self.similarity_penalty /= (len(self.sensor_information) * (len(self.sensor_information) - 1) / 2)\n",
        "\n",
        "    # Calculate energy efficiency\n",
        "        average_energy =(np.mean(energy_consumption))\n",
        "        # Utility combines penalties for redundancy and rewards for high average energy\n",
        "        reward = -self.alpha * (self.similarity_penalty) - self.beta * average_energy\n",
        "        reward\n",
        "\n",
        "\n",
        "\n",
        "\n",
        "        for i in range(len(self.sensor_information)):\n",
        "            self.sensor_information[i,0] = self.temprature[i,self.step_count+1]\n",
        "            self.sensor_information[i,1] = self.sensor_information[i,1] - energy_consumption[i]\n",
        "\n",
        "\n",
        "        ## something should be considered 1) lower remaining energy, higher penalty for sensing and collecting data\n",
        "        ## 2) how to measure the redundancy, for example, if the temprature of some devices have the similar values, but those devices all take the action for sending the data, then it should receive the penalty?\n",
        "        ## 3) higher sampling frequency, higher energy consumption\n",
        "        ## 4) additional terminate conditions: if all sensors die out\n",
        "\n",
        "\n",
        "\n",
        "        self.step_count += 1\n",
        "\n",
        "        # Return the next observation, reward, termination signal, and additional information\n",
        "        return self.sensor_information, reward, terminated, truncated, self.info, self.sensor_information[:,1]\n",
        "\n",
        "    def _generate_sensor_positions(self,energy,temp):\n",
        "\n",
        "        # Set a fixed random seed for reproducibility\n",
        "        np.random.seed(42)\n",
        "\n",
        "        # Define the intensity (lambda) for the Poisson process\n",
        "        intensity = self.num_sensors / (1 * 1)  # Adjust as needed based on the size of the space\n",
        "\n",
        "        # Generate the number of points based on a Poisson distribution\n",
        "        num_points = poisson(intensity).rvs()\n",
        "\n",
        "        # Generate the sensor positions uniformly at random within the space\n",
        "        sensor_information = np.zeros((num_points, 2))\n",
        "\n",
        "        sensor_information[:, 0] = temp\n",
        "\n",
        "        # Fill the second column with 100\n",
        "        sensor_information[:, 1] = energy\n",
        "\n",
        "        # Create a new column of zeros with the same number of sensors to calculate the number of pulling for each one\n",
        "        #zeros_column = np.zeros((num_points, 1))\n",
        "\n",
        "        # Concatenate the original array with the new column of zeros\n",
        "        # sensor_positions_with_zeros = np.hstack((sensor_positions, zeros_column))\n",
        "\n",
        "\n",
        "        return sensor_information.astype(np.float32), num_points\n",
        "\n",
        "    def render(self):\n",
        "        pass\n",
        "\n",
        "    def close(self):\n",
        "        pass\n",
        "\n",
        "\n",
        "class WSNEnvironmentAgent:\n",
        "    def __init__(\n",
        "        self,\n",
        "        learning_rate: float,\n",
        "        initial_epsilon: float,\n",
        "        epsilon_decay: float,\n",
        "        final_epsilon: float,\n",
        "        discount_factor: float = 0.95,\n",
        "    ):\n",
        "        \"\"\"Initialize a Reinforcement Learning agent with an empty dictionary\n",
        "        of state-action values (q_values), a learning rate and an epsilon.\n",
        "\n",
        "        Args:\n",
        "            learning_rate: The learning rate\n",
        "            initial_epsilon: The initial epsilon value\n",
        "            epsilon_decay: The decay for epsilon\n",
        "            final_epsilon: The final epsilon value\n",
        "            discount_factor: The discount factor for computing the Q-value\n",
        "        \"\"\"\n",
        "\n",
        "        ### initialize the q-table\n",
        "        self.q_values = defaultdict(lambda: np.zeros(env.action_space.nvec))\n",
        "\n",
        "        self.lr = learning_rate\n",
        "        self.discount_factor = discount_factor\n",
        "\n",
        "        self.epsilon = initial_epsilon\n",
        "        self.epsilon_decay = epsilon_decay\n",
        "        self.final_epsilon = final_epsilon\n",
        "\n",
        "        self.training_error = []\n",
        "\n",
        "    def get_action(self, obs: np.ndarray) -> int:\n",
        "        \"\"\"\n",
        "        Returns the best action with probability (1 - epsilon)\n",
        "        otherwise a random action with probability epsilon to ensure exploration.\n",
        "        \"\"\"\n",
        "        # Convert numpy array to tuple\n",
        "        obs_key = tuple(tuple(row) for row in obs)\n",
        "        # with probability epsilon return a random action to explore the environment\n",
        "        if np.random.random() < self.epsilon:\n",
        "            return env.action_space.sample()\n",
        "\n",
        "        # with probability (1 - epsilon) act greedily (exploit) instead of one action, we generate an action vector\n",
        "        else:\n",
        "            return np.unravel_index(np.argmax(self.q_values[obs_key]), self.q_values[obs_key].shape)\n",
        "\n",
        "    def update(\n",
        "        self,\n",
        "        obs: np.ndarray,\n",
        "        action: int,\n",
        "        reward: float,\n",
        "        terminated: bool,\n",
        "        next_obs: np.ndarray,\n",
        "    ):\n",
        "        \"\"\"Updates the Q-value of an action.\"\"\"\n",
        "        next_obs_key = tuple(tuple(row) for row in next_obs)\n",
        "        m_obs = tuple(tuple(row) for row in obs)\n",
        "        future_q_value = (not terminated) * np.max(self.q_values[next_obs_key])\n",
        "        temporal_difference = (\n",
        "            reward + self.discount_factor * future_q_value - self.q_values[m_obs][action]\n",
        "        )\n",
        "\n",
        "        self.q_values[m_obs][action] = (\n",
        "            self.q_values[m_obs][action] + self.lr * temporal_difference\n",
        "        )\n",
        "\n",
        "\n",
        "        self.training_error.append(temporal_difference)\n",
        "    def save_q_table(self, filename):\n",
        "      with open(filename, 'wb') as f:\n",
        "          dill.dump(self.q_values, f)\n",
        "\n",
        "\n",
        "    def decay_epsilon(self):\n",
        "        self.epsilon = max(self.final_epsilon, self.epsilon - epsilon_decay)\n",
        "\n",
        "\n",
        "\n",
        "# q_table = load_q_table('q_table.pkl')"
      ]
    },
    {
      "cell_type": "code",
      "execution_count": null,
      "metadata": {
        "id": "AAlImduQVPjZ"
      },
      "outputs": [],
      "source": [
        "env = WSNEnvironment()\n",
        "\n",
        "# hyperparameters\n",
        "learning_rate = 0.01\n",
        "n_episodes = 10_000\n",
        "start_epsilon = 1.0\n",
        "epsilon_decay = start_epsilon / (n_episodes / 2)  # reduce the exploration over time\n",
        "final_epsilon = 0.1\n",
        "\n",
        "agent = WSNEnvironmentAgent(\n",
        "    learning_rate=learning_rate,\n",
        "    initial_epsilon=start_epsilon,\n",
        "    epsilon_decay=epsilon_decay,\n",
        "    final_epsilon=final_epsilon,\n",
        ")\n",
        "\n",
        "episodes = 20\n",
        "scores = []\n",
        "\n",
        "for episode in tqdm(range(n_episodes)):\n",
        "    obs, info = env.reset()\n",
        "    m_obs = tuple(tuple(row) for row in obs)\n",
        "    done = False\n",
        "\n",
        "    # play one episode\n",
        "    while not done:\n",
        "        action = agent.get_action(m_obs)\n",
        "        next_obs, reward, terminated, truncated, info, energy_comsumption = env.step(action)\n",
        "\n",
        "        m_next_obs = tuple(tuple(row) for row in next_obs)\n",
        "        # update the agent\n",
        "        agent.update(m_obs, action, reward, terminated, next_obs)\n",
        "\n",
        "        # update if the environment is done and the current obs\n",
        "        done = terminated or truncated\n",
        "        m_obs = m_next_obs\n",
        "\n",
        "    agent.decay_epsilon()\n",
        "\n",
        "\n",
        "for episode in range(1, episodes+1):\n",
        "    state, info = env.reset()\n",
        "    done = False\n",
        "    score = 0\n",
        "\n",
        "    while not done:\n",
        "        action = agent.get_action(state)\n",
        "        n_state, reward, terminated, truncated, info, energy_remain_list = env.step(action)\n",
        "        score += reward\n",
        "        done = terminated or truncated\n",
        "        state = n_state\n",
        "\n",
        "\n",
        "    scores.append(score)\n",
        "    if (episode==n_episodes-1):\n",
        "      filename = 'q_table.pkl'\n",
        "      agent.save_q_table(filename)\n",
        "\n",
        "\n",
        "\n",
        "\n",
        "\n",
        "    print('Episode:{}\\t Score:{:.2f} \\t{}'.format(episode, score, info))\n",
        "\n",
        "\n",
        "\n",
        "scoresW=scores\n",
        "# Print average score\n",
        "print('Average Score:', np.mean(scores))\n",
        "Q_Learning_Scheduler = scoresW\n",
        "\n",
        "\n",
        "\n",
        "# Save Q-table after training\n",
        "# save_q_table(agent.q_values, 'q_table.pkl')\n",
        "\n",
        "# Load Q-table before testing\n",
        "# q_table = load_q_table('q_table.pkl')"
      ]
    },
    {
      "cell_type": "code",
      "execution_count": null,
      "metadata": {
        "colab": {
          "base_uri": "https://urldefense.com/v3/__https://localhost:8080/__;!!DZ3fjg!8mVJ2HOqbTV7zrbJ7qG-zPLm5z4FKF1imYDDmHH8_mXhs62lEqpl4OZiC8YRIFadPVmtCS1ax0wq34CrD1yARfJM$ "
        },
        "id": "lrzR6iFFNkUb",
        "outputId": "fae3e5c7-4813-4dd4-c1be-bb0c2dec195f"
      },
      "outputs": [
        {
          "name": "stdout",
          "output_type": "stream",
          "text": [
            "Collecting dill\n",
            "  Downloading dill-0.3.8-py3-none-any.whl (116 kB)\n",
            "\u001b[?25l     \u001b[90m━━━━━━━━━━━━━━━━━━━━━━━━━━━━━━━━━━━━━━━━\u001b[0m \u001b[32m0.0/116.3 kB\u001b[0m \u001b[31m?\u001b[0m eta \u001b[36m-:--:--\u001b[0m\r\u001b[2K     \u001b[90m━━━━━━━━━━━━━━━━━━━━━━━━━━━━━━━━━━━━━━━━\u001b[0m \u001b[32m116.3/116.3 kB\u001b[0m \u001b[31m3.2 MB/s\u001b[0m eta \u001b[36m0:00:00\u001b[0m\n",
            "\u001b[?25hInstalling collected packages: dill\n",
            "Successfully installed dill-0.3.8\n"
          ]
        }
      ],
      "source": [
        "!pip install dill"
      ]
    },
    {
      "cell_type": "code",
      "execution_count": null,
      "metadata": {
        "id": "4iM8hklVNmvt"
      },
      "outputs": [],
      "source": []
    },
    {
      "cell_type": "markdown",
      "metadata": {
        "id": "ZXi6EZnKi8f8"
      },
      "source": [
        "## Random Scheduling\n"
      ]
    },
    {
      "cell_type": "markdown",
      "metadata": {
        "id": "VKCUK0tki8p2"
      },
      "source": []
    },
    {
      "cell_type": "code",
      "execution_count": null,
      "metadata": {
        "colab": {
          "base_uri": "https://urldefense.com/v3/__https://localhost:8080/__;!!DZ3fjg!8mVJ2HOqbTV7zrbJ7qG-zPLm5z4FKF1imYDDmHH8_mXhs62lEqpl4OZiC8YRIFadPVmtCS1ax0wq34CrD1yARfJM$ ",
          "height": 215
        },
        "id": "GbIDtkVTORQ9",
        "outputId": "3f693d27-6ed4-40ee-8e52-7fd1c8f42a2e"
      },
      "outputs": [
        {
          "ename": "ValueError",
          "evalue": "not enough values to unpack (expected 6, got 5)",
          "output_type": "error",
          "traceback": [
            "\u001b[0;31m---------------------------------------------------------------------------\u001b[0m",
            "\u001b[0;31mValueError\u001b[0m                                Traceback (most recent call last)",
            "\u001b[0;32m<ipython-input-8-299f80af8f76>\u001b[0m in \u001b[0;36m<cell line: 6>\u001b[0;34m()\u001b[0m\n\u001b[1;32m     12\u001b[0m         \u001b[0;31m#env.render()\u001b[0m\u001b[0;34m\u001b[0m\u001b[0;34m\u001b[0m\u001b[0m\n\u001b[1;32m     13\u001b[0m         \u001b[0maction\u001b[0m \u001b[0;34m=\u001b[0m \u001b[0menv\u001b[0m\u001b[0;34m.\u001b[0m\u001b[0maction_space\u001b[0m\u001b[0;34m.\u001b[0m\u001b[0msample\u001b[0m\u001b[0;34m(\u001b[0m\u001b[0;34m)\u001b[0m\u001b[0;34m\u001b[0m\u001b[0;34m\u001b[0m\u001b[0m\n\u001b[0;32m---> 14\u001b[0;31m         \u001b[0mn_state\u001b[0m\u001b[0;34m,\u001b[0m \u001b[0mreward\u001b[0m\u001b[0;34m,\u001b[0m \u001b[0mterminated\u001b[0m\u001b[0;34m,\u001b[0m \u001b[0mtruncated\u001b[0m\u001b[0;34m,\u001b[0m \u001b[0minfo\u001b[0m\u001b[0;34m,\u001b[0m \u001b[0menergy_remain_list\u001b[0m \u001b[0;34m=\u001b[0m \u001b[0menv\u001b[0m\u001b[0;34m.\u001b[0m\u001b[0mstep\u001b[0m\u001b[0;34m(\u001b[0m\u001b[0maction\u001b[0m\u001b[0;34m)\u001b[0m\u001b[0;34m\u001b[0m\u001b[0;34m\u001b[0m\u001b[0m\n\u001b[0m\u001b[1;32m     15\u001b[0m         \u001b[0mscore\u001b[0m \u001b[0;34m+=\u001b[0m \u001b[0mreward\u001b[0m\u001b[0;34m\u001b[0m\u001b[0;34m\u001b[0m\u001b[0m\n\u001b[1;32m     16\u001b[0m         \u001b[0mdone\u001b[0m \u001b[0;34m=\u001b[0m \u001b[0mterminated\u001b[0m \u001b[0;32mor\u001b[0m \u001b[0mtruncated\u001b[0m\u001b[0;34m\u001b[0m\u001b[0;34m\u001b[0m\u001b[0m\n",
            "\u001b[0;31mValueError\u001b[0m: not enough values to unpack (expected 6, got 5)"
          ]
        }
      ],
      "source": [
        "episodes = 100\n",
        "random_scores = []\n",
        "energies = []\n",
        "\n",
        "\n",
        "for episode in range(1, episodes+1):\n",
        "    state, info = env.reset()\n",
        "    done = False\n",
        "    score = 0\n",
        "\n",
        "    while not done:\n",
        "        #env.render()\n",
        "        action = env.action_space.sample()\n",
        "        n_state, reward, terminated, truncated, info, energy_remain_list = env.step(action)\n",
        "        score += reward\n",
        "        done = terminated or truncated\n",
        "    average_energy_remain = np.mean(energy_remain_list)\n",
        "    random_scores.append(score)\n",
        "    energies.append(average_energy_remain)\n",
        "    print('Episode:{}\\t Score:{:.2f} \\t{}'.format(episode, score, info))\n",
        "    print('Average Energy Remain:', average_energy_remain)\n",
        "\n",
        "# Print average score\n",
        "print('Average Score:', np.mean(random_scores))\n",
        "Random_scheduler = random_scores\n",
        "print(\"score are\", Random_scheduler)"
      ]
    },
    {
      "cell_type": "code",
      "execution_count": null,
      "metadata": {
        "colab": {
          "base_uri": "https://urldefense.com/v3/__https://localhost:8080/__;!!DZ3fjg!8mVJ2HOqbTV7zrbJ7qG-zPLm5z4FKF1imYDDmHH8_mXhs62lEqpl4OZiC8YRIFadPVmtCS1ax0wq34CrD1yARfJM$ "
        },
        "id": "n4UHJl38HSTW",
        "outputId": "47323076-29fc-43d2-8fa1-27950c15dc9c"
      },
      "outputs": [
        {
          "name": "stdout",
          "output_type": "stream",
          "text": [
            "Collecting msgpack-numpy\n",
            "  Downloading msgpack_numpy-0.4.8-py2.py3-none-any.whl (6.9 kB)\n",
            "Requirement already satisfied: numpy>=1.9.0 in /usr/local/lib/python3.10/dist-packages (from msgpack-numpy) (1.25.2)\n",
            "Requirement already satisfied: msgpack>=0.5.2 in /usr/local/lib/python3.10/dist-packages (from msgpack-numpy) (1.0.8)\n",
            "Installing collected packages: msgpack-numpy\n",
            "Successfully installed msgpack-numpy-0.4.8\n"
          ]
        }
      ],
      "source": [
        "!pip install msgpack-numpy"
      ]
    },
    {
      "cell_type": "code",
      "execution_count": null,
      "metadata": {
        "colab": {
          "base_uri": "https://urldefense.com/v3/__https://localhost:8080/__;!!DZ3fjg!8mVJ2HOqbTV7zrbJ7qG-zPLm5z4FKF1imYDDmHH8_mXhs62lEqpl4OZiC8YRIFadPVmtCS1ax0wq34CrD1yARfJM$ "
        },
        "id": "ekWR0jWNKxIT",
        "outputId": "ebaa2052-a946-45a8-e372-ea39325ce798"
      },
      "outputs": [
        {
          "name": "stdout",
          "output_type": "stream",
          "text": [
            "Mounted at /content/drive\n"
          ]
        }
      ],
      "source": [
        "from google.colab import drive\n",
        "drive.mount('/content/drive')"
      ]
    },
    {
      "cell_type": "code",
      "execution_count": null,
      "metadata": {
        "colab": {
          "base_uri": "https://urldefense.com/v3/__https://localhost:8080/__;!!DZ3fjg!8mVJ2HOqbTV7zrbJ7qG-zPLm5z4FKF1imYDDmHH8_mXhs62lEqpl4OZiC8YRIFadPVmtCS1ax0wq34CrD1yARfJM$ ",
          "height": 545
        },
        "id": "K_rJPUr_TLk2",
        "outputId": "3d31da2b-fbd9-4650-b664-ebcf30040df1"
      },
      "outputs": [
        {
          "data": {
            "image/png": "[encoded data removed]",
            "text/plain": [
              "<Figure size 800x600 with 1 Axes>"
            ]
          },
          "metadata": {},
          "output_type": "display_data"
        }
      ],
      "source": [
        "# Create a 2D array where each row corresponds to a scheduling algorithm's reward per episode\n",
        "data_to_plot = [Random_scheduler, Q_Learning_Scheduler]\n",
        "\n",
        "fig, ax = plt.subplots(figsize=(8, 6))\n",
        "\n",
        "# Create the boxplot\n",
        "bp = ax.boxplot(data_to_plot)\n",
        "\n",
        "# Customize boxplot (you can skip this if you don't need customization)\n",
        "for box in bp['boxes']:\n",
        "    box.set(color='#7570b3', linewidth=2)\n",
        "\n",
        "for whisker in bp['whiskers']:\n",
        "    whisker.set(color='#7570b3', linewidth=2)\n",
        "\n",
        "for cap in bp['caps']:\n",
        "    cap.set(color='#7570b3', linewidth=2)\n",
        "\n",
        "for median in bp['medians']:\n",
        "    median.set(color='#b2df8a', linewidth=2)\n",
        "\n",
        "for flier in bp['fliers']:\n",
        "    flier.set(marker='o', color='#e7298a', alpha=0.5)\n",
        "\n",
        "# Add labels and title\n",
        "ax.set_xticklabels(['Random Scheduler',  'RL Scheduler'])\n",
        "ax.set_ylabel('Average Rewards per Episode')\n",
        "plt.title('Comparison of Scheduling Algorithms')\n",
        "\n",
        "# Show the plot\n",
        "plt.show()"
      ]
    },
    {
      "cell_type": "code",
      "source": [
        "#\n",
        "categories = ['5', '13', '15']\n",
        "values_group1 = [976.12, 988.7833, 987.8001]\n",
        "values_group2 = [899.0, 899.0, 899.0]\n",
        "\n",
        "\n",
        "bar_width = 0.35\n",
        "index = np.arange(len(categories))\n",
        "\n",
        "# plot\n",
        "plt.bar(index, values_group1, bar_width, label='RL Scheduler')\n",
        "plt.bar(index + bar_width, values_group2, bar_width, label='Random Scheduler')\n",
        "\n",
        "plt.ylim(500, 1000)\n",
        "#\n",
        "plt.xlabel('Number of devices')\n",
        "plt.ylabel('remaining average energy after one episode')\n",
        "plt.title('Comparison of Two Scheduler')\n",
        "plt.xticks(index + bar_width / 2, categories)\n",
        "plt.legend()\n",
        "\n",
        "# 显示图例\n",
        "plt.tight_layout()\n",
        "plt.show()"
      ],
      "metadata": {
        "colab": {
          "base_uri": "https://urldefense.com/v3/__https://localhost:8080/__;!!DZ3fjg!8mVJ2HOqbTV7zrbJ7qG-zPLm5z4FKF1imYDDmHH8_mXhs62lEqpl4OZiC8YRIFadPVmtCS1ax0wq34CrD1yARfJM$ ",
          "height": 543
        },
        "id": "_yW_TFR9Zsx_",
        "outputId": "9294f298-aadc-480a-f571-32dc0bf1b066"
      },
      "execution_count": null,
      "outputs": [
        {
          "output_type": "stream",
          "name": "stderr",
          "text": [
            "/usr/local/lib/python3.10/dist-packages/ipykernel/ipkernel.py:283: DeprecationWarning: `should_run_async` will not call `transform_cell` automatically in the future. Please pass the result to `transformed_cell` argument and any exception that happen during thetransform in `preprocessing_exc_tuple` in IPython 7.17 and above.\n",
            "  and should_run_async(code)\n"
          ]
        },
        {
          "output_type": "display_data",
          "data": {
            "text/plain": [
              "<Figure size 640x480 with 1 Axes>"
            ],
            "image/png": "[encoded data removed]"
          },
          "metadata": {}
        }
      ]
    }
  ],
  "metadata": {
    "colab": {
      "machine_shape": "hm",
      "provenance": []
    },
    "kernelspec": {
      "display_name": "Python 3",
      "name": "python3"
    },
    "language_info": {
      "name": "python"
    }
  },
  "nbformat": 4,
  "nbformat_minor": 0
}